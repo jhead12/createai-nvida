{
 "cells": [
  {
   "cell_type": "code",
   "execution_count": 1,
   "id": "8451cda1",
   "metadata": {
    "collapsed": false,
    "jupyter": {
     "outputs_hidden": false
    }
   },
   "outputs": [],
   "source": [
    "import mlflow\n",
    "from mlflow import MlflowClient\n",
    "from datetime import datetime"
   ]
  },
  {
   "cell_type": "code",
   "execution_count": 2,
   "id": "be99af01-6b4d-4a82-9240-1d732758337a",
   "metadata": {},
   "outputs": [
    {
     "name": "stdout",
     "output_type": "stream",
     "text": [
      "Run's Artifact URI: /phoenix/mlflow/308069013936192341/3a88ac18d4164b5eaae4d6d0d45d5451/artifacts\n"
     ]
    },
    {
     "name": "stderr",
     "output_type": "stream",
     "text": [
      "Registered model 'Model_Name' already exists. Creating a new version of this model...\n",
      "Created version '2' of model 'Model_Name'.\n"
     ]
    }
   ],
   "source": [
    "# Set the MLflow experiment name\n",
    "mlflow.set_experiment(experiment_name=\"Experiment\")\n",
    "\n",
    "# Start an MLflow run\n",
    "with mlflow.start_run(run_name=f\"run_{datetime.now().strftime('%Y-%m-%d_%H:%M:%S')}\") as run:\n",
    "    # Print the artifact URI for reference\n",
    "    print(f\"Run's Artifact URI: {run.info.artifact_uri}\")\n",
    "    \n",
    "    # Log your model and metrics here\n",
    "    mlflow.log_params({\n",
    "        \"top_n\": 5,           # Number of results to return\n",
    "        \"show_score\": True    # Whether to show similarity scores\n",
    "    })\n",
    "    \n",
    "    mlflow.log_metrics({\n",
    "        \"similarity_score\": 0.95,  # Example similarity score\n",
    "        \"response_time\": 0.85      # Example response time in seconds\n",
    "    })\n",
    "    \n",
    "    # Register the model\n",
    "    mlflow.register_model(\n",
    "        model_uri=f\"runs:/{run.info.run_id}/model_name\", \n",
    "        name=\"Model_Name\"\n",
    "    )"
   ]
  },
  {
   "cell_type": "code",
   "execution_count": null,
   "id": "dcadf46c-6f59-4423-bdbe-6b7bcd349dd5",
   "metadata": {},
   "outputs": [],
   "source": []
  }
 ],
 "metadata": {
  "kernelspec": {
   "display_name": "Python [conda env:base] *",
   "language": "python",
   "name": "conda-base-py"
  },
  "language_info": {
   "codemirror_mode": {
    "name": "ipython",
    "version": 3
   },
   "file_extension": ".py",
   "mimetype": "text/x-python",
   "name": "python",
   "nbconvert_exporter": "python",
   "pygments_lexer": "ipython3",
   "version": "3.12.7"
  }
 },
 "nbformat": 4,
 "nbformat_minor": 5
}
